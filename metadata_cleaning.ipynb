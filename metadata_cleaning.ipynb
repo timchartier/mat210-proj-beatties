{
 "cells": [
  {
   "cell_type": "code",
   "execution_count": 28,
   "id": "norman-liability",
   "metadata": {},
   "outputs": [],
   "source": [
    "import os\n",
    "import pandas as pd"
   ]
  },
  {
   "cell_type": "code",
   "execution_count": 26,
   "id": "preliminary-savage",
   "metadata": {},
   "outputs": [],
   "source": [
    "fileList = os.listdir('./qol-data/csvFiles/')"
   ]
  },
  {
   "cell_type": "code",
   "execution_count": 27,
   "id": "arranged-addition",
   "metadata": {},
   "outputs": [
    {
     "data": {
      "text/plain": [
       "['character.csv',\n",
       " 'economy.csv',\n",
       " 'education.csv',\n",
       " 'engagement.csv',\n",
       " 'environment.csv',\n",
       " 'health.csv',\n",
       " 'housing.csv',\n",
       " 'safety.csv',\n",
       " 'transportation.csv']"
      ]
     },
     "execution_count": 27,
     "metadata": {},
     "output_type": "execute_result"
    }
   ],
   "source": [
    "fileList.remove('.ipynb_checkpoints')\n",
    "fileList.remove('metadata.csv')\n",
    "fileList"
   ]
  },
  {
   "cell_type": "code",
   "execution_count": 42,
   "id": "bulgarian-insurance",
   "metadata": {},
   "outputs": [],
   "source": [
    "processCSV = lambda x: pd.read_csv('./qol-data/csvFiles/{}'.format(x),header=None).iloc[0:2].transpose()[1:]"
   ]
  },
  {
   "cell_type": "code",
   "execution_count": 45,
   "id": "proud-documentation",
   "metadata": {},
   "outputs": [],
   "source": [
    "frames = [processCSV(file) for file in fileList]"
   ]
  },
  {
   "cell_type": "code",
   "execution_count": 52,
   "id": "tight-publisher",
   "metadata": {},
   "outputs": [
    {
     "data": {
      "text/html": [
       "<div>\n",
       "<style scoped>\n",
       "    .dataframe tbody tr th:only-of-type {\n",
       "        vertical-align: middle;\n",
       "    }\n",
       "\n",
       "    .dataframe tbody tr th {\n",
       "        vertical-align: top;\n",
       "    }\n",
       "\n",
       "    .dataframe thead th {\n",
       "        text-align: right;\n",
       "    }\n",
       "</style>\n",
       "<table border=\"1\" class=\"dataframe\">\n",
       "  <thead>\n",
       "    <tr style=\"text-align: right;\">\n",
       "      <th></th>\n",
       "      <th>code</th>\n",
       "      <th>name</th>\n",
       "    </tr>\n",
       "  </thead>\n",
       "  <tbody>\n",
       "    <tr>\n",
       "      <th>1</th>\n",
       "      <td>r1_2015</td>\n",
       "      <td>Area</td>\n",
       "    </tr>\n",
       "    <tr>\n",
       "      <th>2</th>\n",
       "      <td>r1_2013</td>\n",
       "      <td>Area</td>\n",
       "    </tr>\n",
       "    <tr>\n",
       "      <th>3</th>\n",
       "      <td>m47_2018</td>\n",
       "      <td>Population_Density_2018</td>\n",
       "    </tr>\n",
       "    <tr>\n",
       "      <th>4</th>\n",
       "      <td>r47_2018</td>\n",
       "      <td>Population _2018</td>\n",
       "    </tr>\n",
       "    <tr>\n",
       "      <th>5</th>\n",
       "      <td>m47_2017</td>\n",
       "      <td>Population_Density_2017</td>\n",
       "    </tr>\n",
       "    <tr>\n",
       "      <th>...</th>\n",
       "      <td>...</td>\n",
       "      <td>...</td>\n",
       "    </tr>\n",
       "    <tr>\n",
       "      <th>32</th>\n",
       "      <td>r44_2015</td>\n",
       "      <td>Transit_Ridership_Total_2015</td>\n",
       "    </tr>\n",
       "    <tr>\n",
       "      <th>33</th>\n",
       "      <td>m44_2014</td>\n",
       "      <td>Transit_Ridership_2014</td>\n",
       "    </tr>\n",
       "    <tr>\n",
       "      <th>34</th>\n",
       "      <td>r44_2014</td>\n",
       "      <td>Transit_Ridership_Total_2014</td>\n",
       "    </tr>\n",
       "    <tr>\n",
       "      <th>35</th>\n",
       "      <td>m44_2013</td>\n",
       "      <td>Transit_Ridership_2013</td>\n",
       "    </tr>\n",
       "    <tr>\n",
       "      <th>36</th>\n",
       "      <td>r44_2013</td>\n",
       "      <td>Transit_Ridership_Total_2013</td>\n",
       "    </tr>\n",
       "  </tbody>\n",
       "</table>\n",
       "<p>583 rows × 2 columns</p>\n",
       "</div>"
      ],
      "text/plain": [
       "        code                          name\n",
       "1    r1_2015                          Area\n",
       "2    r1_2013                          Area\n",
       "3   m47_2018       Population_Density_2018\n",
       "4   r47_2018              Population _2018\n",
       "5   m47_2017       Population_Density_2017\n",
       "..       ...                           ...\n",
       "32  r44_2015  Transit_Ridership_Total_2015\n",
       "33  m44_2014        Transit_Ridership_2014\n",
       "34  r44_2014  Transit_Ridership_Total_2014\n",
       "35  m44_2013        Transit_Ridership_2013\n",
       "36  r44_2013  Transit_Ridership_Total_2013\n",
       "\n",
       "[583 rows x 2 columns]"
      ]
     },
     "execution_count": 52,
     "metadata": {},
     "output_type": "execute_result"
    }
   ],
   "source": [
    "allTogether = pd.concat(frames)\n",
    "allTogether.columns = ['code', 'name']\n",
    "allTogether"
   ]
  },
  {
   "cell_type": "code",
   "execution_count": 54,
   "id": "cross-divorce",
   "metadata": {},
   "outputs": [],
   "source": [
    "allTogether.to_csv('./qol-data/variableLookup.csv',index=False)"
   ]
  },
  {
   "cell_type": "code",
   "execution_count": null,
   "id": "false-machinery",
   "metadata": {},
   "outputs": [],
   "source": []
  }
 ],
 "metadata": {
  "kernelspec": {
   "display_name": "Python 3",
   "language": "python",
   "name": "python3"
  },
  "language_info": {
   "codemirror_mode": {
    "name": "ipython",
    "version": 3
   },
   "file_extension": ".py",
   "mimetype": "text/x-python",
   "name": "python",
   "nbconvert_exporter": "python",
   "pygments_lexer": "ipython3",
   "version": "3.7.9"
  }
 },
 "nbformat": 4,
 "nbformat_minor": 5
}

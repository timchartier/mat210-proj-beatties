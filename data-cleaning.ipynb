{
 "cells": [
  {
   "cell_type": "code",
   "execution_count": 1,
   "id": "threatened-horse",
   "metadata": {},
   "outputs": [],
   "source": [
    "import pandas as pd"
   ]
  },
  {
   "cell_type": "code",
   "execution_count": 5,
   "id": "typical-interference",
   "metadata": {},
   "outputs": [
    {
     "name": "stdout",
     "output_type": "stream",
     "text": [
      "<class 'pandas.core.frame.DataFrame'>\n",
      "RangeIndex: 104635 entries, 0 to 104634\n",
      "Data columns (total 27 columns):\n",
      " #   Column                      Non-Null Count   Dtype  \n",
      "---  ------                      --------------   -----  \n",
      " 0   GEOID                       104635 non-null  int64  \n",
      " 1   year                        104635 non-null  int64  \n",
      " 2   name                        104635 non-null  object \n",
      " 3   parent-location             104635 non-null  object \n",
      " 4   population                  104635 non-null  float64\n",
      " 5   poverty-rate                104635 non-null  float64\n",
      " 6   renter-occupied-households  104635 non-null  float64\n",
      " 7   pct-renter-occupied         104635 non-null  float64\n",
      " 8   median-gross-rent           98533 non-null   float64\n",
      " 9   median-household-income     103405 non-null  float64\n",
      " 10  median-property-value       102512 non-null  float64\n",
      " 11  rent-burden                 99627 non-null   float64\n",
      " 12  pct-white                   104635 non-null  float64\n",
      " 13  pct-af-am                   104635 non-null  float64\n",
      " 14  pct-hispanic                104635 non-null  float64\n",
      " 15  pct-am-ind                  104635 non-null  float64\n",
      " 16  pct-asian                   104635 non-null  float64\n",
      " 17  pct-nh-pi                   104635 non-null  float64\n",
      " 18  pct-multiple                104635 non-null  float64\n",
      " 19  pct-other                   104635 non-null  float64\n",
      " 20  eviction-filings            87247 non-null   float64\n",
      " 21  evictions                   87247 non-null   float64\n",
      " 22  eviction-rate               87247 non-null   float64\n",
      " 23  eviction-filing-rate        87247 non-null   float64\n",
      " 24  low-flag                    104635 non-null  int64  \n",
      " 25  imputed                     104635 non-null  int64  \n",
      " 26  subbed                      104635 non-null  int64  \n",
      "dtypes: float64(20), int64(5), object(2)\n",
      "memory usage: 21.6+ MB\n"
     ]
    }
   ],
   "source": [
    "# Import data\n",
    "evictionData = pd.read_csv(\"eviction-lab-data/block-groups.csv\")\n",
    "evictionData.info()"
   ]
  },
  {
   "cell_type": "code",
   "execution_count": null,
   "id": "floral-torture",
   "metadata": {},
   "outputs": [],
   "source": []
  }
 ],
 "metadata": {
  "kernelspec": {
   "display_name": "Python 3",
   "language": "python",
   "name": "python3"
  },
  "language_info": {
   "codemirror_mode": {
    "name": "ipython",
    "version": 3
   },
   "file_extension": ".py",
   "mimetype": "text/x-python",
   "name": "python",
   "nbconvert_exporter": "python",
   "pygments_lexer": "ipython3",
   "version": "3.7.9"
  }
 },
 "nbformat": 4,
 "nbformat_minor": 5
}

{
 "cells": [
  {
   "cell_type": "code",
   "execution_count": 13,
   "id": "biological-empire",
   "metadata": {},
   "outputs": [],
   "source": [
    "import pandas as pd\n",
    "import numpy as np\n",
    "from sklearn.preprocessing import normalize\n",
    "from sklearn.cluster import AgglomerativeClustering\n",
    "from sklearn.cluster import KMeans"
   ]
  },
  {
   "cell_type": "code",
   "execution_count": 64,
   "id": "genetic-powell",
   "metadata": {},
   "outputs": [],
   "source": [
    "# Read in Data\n",
    "master = pd.read_pickle('./qol-data/master.pkl')\n",
    "\n",
    "fieldList = master.columns\n",
    "selectedFields = list(fieldList[fieldList.to_series().str.endswith('2017') & ~fieldList.to_series().str.contains('moe')])"
   ]
  },
  {
   "cell_type": "code",
   "execution_count": 95,
   "id": "realistic-phoenix",
   "metadata": {},
   "outputs": [],
   "source": [
    "data = master[selectedFields]\n",
    "na_columns = data.columns[data.isna().any().to_list()]\n",
    "data = data.dropna(axis='columns')"
   ]
  },
  {
   "cell_type": "code",
   "execution_count": 96,
   "id": "molecular-forty",
   "metadata": {},
   "outputs": [],
   "source": [
    "scaled = normalize(data)\n",
    "scaled = pd.DataFrame(scaled,columns=data.columns)"
   ]
  },
  {
   "cell_type": "code",
   "execution_count": 105,
   "id": "incredible-stupid",
   "metadata": {},
   "outputs": [
    {
     "data": {
      "text/plain": [
       "KMeans(n_clusters=2)"
      ]
     },
     "execution_count": 105,
     "metadata": {},
     "output_type": "execute_result"
    }
   ],
   "source": [
    "numberOfClusters = 2\n",
    "kmeansCluster = KMeans(n_clusters=numberOfClusters)\n",
    "kmeansCluster.fit(scaled)"
   ]
  },
  {
   "cell_type": "code",
   "execution_count": 106,
   "id": "gothic-damages",
   "metadata": {},
   "outputs": [
    {
     "data": {
      "text/plain": [
       "array([1, 1, 1, 1, 1, 0, 1, 1, 0, 0, 0, 0, 0, 0, 0, 0, 0], dtype=int32)"
      ]
     },
     "execution_count": 106,
     "metadata": {},
     "output_type": "execute_result"
    }
   ],
   "source": [
    "kmeansCluster.labels_"
   ]
  },
  {
   "cell_type": "code",
   "execution_count": null,
   "id": "systematic-grave",
   "metadata": {},
   "outputs": [],
   "source": []
  }
 ],
 "metadata": {
  "kernelspec": {
   "display_name": "Python 3",
   "language": "python",
   "name": "python3"
  },
  "language_info": {
   "codemirror_mode": {
    "name": "ipython",
    "version": 3
   },
   "file_extension": ".py",
   "mimetype": "text/x-python",
   "name": "python",
   "nbconvert_exporter": "python",
   "pygments_lexer": "ipython3",
   "version": "3.7.9"
  }
 },
 "nbformat": 4,
 "nbformat_minor": 5
}

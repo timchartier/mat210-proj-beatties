{
 "cells": [
  {
   "cell_type": "code",
   "execution_count": 69,
   "id": "native-northwest",
   "metadata": {},
   "outputs": [],
   "source": [
    "import pandas as pd\n",
    "import matplotlib.pyplot as plt\n",
    "import numpy as np\n",
    "import plotly.express as px"
   ]
  },
  {
   "cell_type": "markdown",
   "id": "retired-weekly",
   "metadata": {},
   "source": [
    "## Import and clean data"
   ]
  },
  {
   "cell_type": "code",
   "execution_count": 70,
   "id": "spoken-blowing",
   "metadata": {},
   "outputs": [],
   "source": [
    "# Import and clean variable metadata\n",
    "metadata = pd.read_csv('qol-data/csvFiles/metadata.csv')\n",
    "metadata = metadata.drop(0)\n",
    "metadata = metadata.iloc[:, 0:5]\n",
    "metadata = metadata.dropna()\n"
   ]
  },
  {
   "cell_type": "code",
   "execution_count": 71,
   "id": "korean-medicaid",
   "metadata": {},
   "outputs": [],
   "source": [
    "# Get selected NPAs\n",
    "selected = pd.read_csv(\"./selectedNPA.csv\")\n",
    "selected['order'] = selected.index"
   ]
  },
  {
   "cell_type": "code",
   "execution_count": 72,
   "id": "interesting-rocket",
   "metadata": {},
   "outputs": [],
   "source": [
    "characterRaw = pd.read_csv('qol-data/csvFiles/character.csv', header=1).dropna(thresh=10)\n",
    "characterRaw = characterRaw[characterRaw.NPA.notnull()]\n",
    "characterRaw.NPA = characterRaw.NPA.astype(int)\n",
    "\n",
    "characterMerged = pd.merge(selected, characterRaw, left_on=\"NPA\",right_on=\"NPA\",how=\"left\")\n",
    "characterMerged.to_pickle('./qol-data/pickles/character.pkl')"
   ]
  },
  {
   "cell_type": "code",
   "execution_count": 73,
   "id": "turned-program",
   "metadata": {},
   "outputs": [],
   "source": [
    "economyRaw = pd.read_csv('qol-data/csvFiles/economy.csv', header=1).dropna(thresh=10)\n",
    "economyRaw = economyRaw[economyRaw.NPA.notnull()]\n",
    "economyRaw.NPA = economyRaw.NPA.astype(int)\n",
    "\n",
    "economyMerged = pd.merge(selected,economyRaw,left_on=\"NPA\",right_on=\"NPA\",how=\"left\")\n",
    "economyMerged[['Household_Income_2018','Household_Income_moe_2018']] = economyMerged[['Household_Income_2018','Household_Income_moe_2018']].astype(float)\n",
    "economyMerged.to_pickle('./qol-data/pickles/economy.pkl')"
   ]
  },
  {
   "cell_type": "code",
   "execution_count": 74,
   "id": "sophisticated-choice",
   "metadata": {},
   "outputs": [],
   "source": [
    "educationRaw = pd.read_csv('qol-data/csvFiles/education.csv',header=1).dropna(thresh=10)\n",
    "educationRaw = educationRaw[educationRaw.NPA.notnull()]\n",
    "educationRaw.NPA = educationRaw.NPA.astype(int)\n",
    "\n",
    "educationMerged = pd.merge(selected,educationRaw,left_on=\"NPA\",right_on=\"NPA\",how=\"left\")\n",
    "educationMerged[['Bachelors_Degree_2018','Bachelors_Degree_moe_2018','High_School_Diploma_2018','High_School_Diploma_moe_2018']] = educationMerged[['Bachelors_Degree_2018','Bachelors_Degree_moe_2018','High_School_Diploma_2018','High_School_Diploma_moe_2018']].astype(float)\n",
    "educationMerged.to_pickle('./qol-data/pickles/education.pkl')"
   ]
  },
  {
   "cell_type": "code",
   "execution_count": 75,
   "id": "western-madrid",
   "metadata": {},
   "outputs": [],
   "source": [
    "engagementRaw = pd.read_csv('qol-data/csvFiles/engagement.csv',header=1).dropna(thresh=10)\n",
    "engagementRaw = engagementRaw[engagementRaw.NPA.notnull()]\n",
    "engagementRaw.NPA = engagementRaw.NPA.astype(int)\n",
    "\n",
    "engagementMerged = pd.merge(selected,engagementRaw,left_on=\"NPA\",right_on=\"NPA\",how=\"left\")\n",
    "engagementMerged.to_pickle('./qol-data/pickles/engagement.pkl')"
   ]
  },
  {
   "cell_type": "code",
   "execution_count": 76,
   "id": "super-malaysia",
   "metadata": {},
   "outputs": [],
   "source": [
    "environmentRaw = pd.read_csv('qol-data/csvFiles/environment.csv',header=1).dropna(thresh=10)\n",
    "environmentRaw = environmentRaw[environmentRaw.NPA.notnull()]\n",
    "environmentRaw.NPA = environmentRaw.NPA.astype(int)\n",
    "\n",
    "environmentMerged = pd.merge(selected,environmentRaw,left_on=\"NPA\",right_on=\"NPA\",how=\"left\")\n",
    "environmentMerged.to_pickle('./qol-data/pickles/environment.pkl')"
   ]
  },
  {
   "cell_type": "code",
   "execution_count": 77,
   "id": "persistent-canada",
   "metadata": {},
   "outputs": [],
   "source": [
    "healthRaw = pd.read_csv('qol-data/csvFiles/health.csv',header=1).dropna(thresh=10)\n",
    "healthRaw = healthRaw[healthRaw.NPA.notnull()]\n",
    "healthRaw.NPA = healthRaw.NPA.astype(int)\n",
    "\n",
    "healthMerged = pd.merge(selected,healthRaw,left_on=\"NPA\",right_on=\"NPA\",how=\"left\")\n",
    "healthMerged.to_pickle('./qol-data/pickles/health.pkl')"
   ]
  },
  {
   "cell_type": "code",
   "execution_count": 78,
   "id": "understood-poverty",
   "metadata": {},
   "outputs": [],
   "source": [
    "housingRaw = pd.read_csv('qol-data/csvFiles/housing.csv',header=1).dropna(thresh=10)\n",
    "housingRaw = housingRaw[housingRaw.NPA.notnull()]\n",
    "housingRaw.NPA = housingRaw.NPA.astype(int)\n",
    "\n",
    "housingMerged = pd.merge(selected,housingRaw,left_on=\"NPA\",right_on=\"NPA\",how=\"left\")\n",
    "housingMerged[list(housingMerged.select_dtypes(include=['object']).columns)] = housingMerged[list(housingMerged.select_dtypes(include=['object']).columns)].astype(float)\n",
    "housingMerged.to_pickle('./qol-data/pickles/housing.pkl')"
   ]
  },
  {
   "cell_type": "code",
   "execution_count": 79,
   "id": "multiple-innocent",
   "metadata": {},
   "outputs": [],
   "source": [
    "safetyRaw = pd.read_csv('qol-data/csvFiles/safety.csv',header=1).dropna(thresh=10)\n",
    "safetyRaw = safetyRaw[safetyRaw.NPA.notnull()]\n",
    "safetyRaw.NPA = safetyRaw.NPA.astype(int)\n",
    "\n",
    "safetyMerged = pd.merge(selected,safetyRaw,left_on=\"NPA\",right_on=\"NPA\",how=\"left\")\n",
    "safetyMerged['Property_Crime_Rate_2011'] = safetyMerged['Property_Crime_Rate_2011'].astype(float)\n",
    "safetyMerged.to_pickle('./qol-data/pickles/safety.pkl')"
   ]
  },
  {
   "cell_type": "code",
   "execution_count": 80,
   "id": "corrected-commission",
   "metadata": {},
   "outputs": [],
   "source": [
    "transportationRaw = pd.read_csv('qol-data/csvFiles/transportation.csv',header=1).dropna(thresh=10)\n",
    "transportationRaw = transportationRaw[transportationRaw.NPA.notnull()]\n",
    "transportationRaw.NPA = transportationRaw.NPA.astype(int)\n",
    "\n",
    "transportationMerged = pd.merge(selected,transportationRaw,left_on=\"NPA\",right_on=\"NPA\",how=\"left\")\n",
    "transportationMerged[['Long_Commute_2018','Long_Commute_moe_2018']] = transportationMerged[['Long_Commute_2018','Long_Commute_moe_2018']].astype(float)\n",
    "transportationMerged.to_pickle('./qol-data/pickles/transportation.pkl')"
   ]
  },
  {
   "cell_type": "markdown",
   "id": "promotional-cameroon",
   "metadata": {},
   "source": [
    "## Combine filtered data into one file"
   ]
  },
  {
   "cell_type": "code",
   "execution_count": 81,
   "id": "stupid-terminal",
   "metadata": {},
   "outputs": [
    {
     "data": {
      "text/plain": [
       "['character.pkl',\n",
       " 'economy.pkl',\n",
       " 'education.pkl',\n",
       " 'engagement.pkl',\n",
       " 'environment.pkl',\n",
       " 'health.pkl',\n",
       " 'housing.pkl',\n",
       " 'safety.pkl',\n",
       " 'transportation.pkl']"
      ]
     },
     "execution_count": 81,
     "metadata": {},
     "output_type": "execute_result"
    }
   ],
   "source": [
    "import os\n",
    "from functools import reduce\n",
    "dataFiles = os.listdir('./qol-data/pickles/')\n",
    "dataFiles"
   ]
  },
  {
   "cell_type": "code",
   "execution_count": 82,
   "id": "jewish-newport",
   "metadata": {},
   "outputs": [],
   "source": [
    "def getPickle(file):\n",
    "    return pd.read_pickle('./qol-data/pickles/{}'.format(file))\n",
    "\n",
    "# List comprehension to create list of dataframes\n",
    "dataFrames = [getPickle(file) for file in dataFiles]\n"
   ]
  },
  {
   "cell_type": "code",
   "execution_count": 83,
   "id": "placed-poland",
   "metadata": {},
   "outputs": [],
   "source": [
    "# Reduce this list to one master frame with left joins\n",
    "master = reduce(lambda left,right: pd.merge(left,right,on=[\"NPA\",\"order\"],how=\"left\"),dataFrames)"
   ]
  },
  {
   "cell_type": "code",
   "execution_count": 84,
   "id": "first-messenger",
   "metadata": {},
   "outputs": [
    {
     "name": "stdout",
     "output_type": "stream",
     "text": [
      "<class 'pandas.core.frame.DataFrame'>\n",
      "Int64Index: 17 entries, 0 to 16\n",
      "Columns: 585 entries, NPA to Transit_Ridership_Total_2013\n",
      "dtypes: float64(563), int64(2), object(20)\n",
      "memory usage: 77.8+ KB\n"
     ]
    }
   ],
   "source": [
    "master.info()"
   ]
  },
  {
   "cell_type": "code",
   "execution_count": 85,
   "id": "senior-nigeria",
   "metadata": {},
   "outputs": [],
   "source": [
    "master.to_pickle('./qol-data/master.pkl')"
   ]
  },
  {
   "cell_type": "code",
   "execution_count": null,
   "id": "hollow-pontiac",
   "metadata": {},
   "outputs": [],
   "source": []
  }
 ],
 "metadata": {
  "kernelspec": {
   "display_name": "Python 3",
   "language": "python",
   "name": "python3"
  },
  "language_info": {
   "codemirror_mode": {
    "name": "ipython",
    "version": 3
   },
   "file_extension": ".py",
   "mimetype": "text/x-python",
   "name": "python",
   "nbconvert_exporter": "python",
   "pygments_lexer": "ipython3",
   "version": "3.7.9"
  }
 },
 "nbformat": 4,
 "nbformat_minor": 5
}

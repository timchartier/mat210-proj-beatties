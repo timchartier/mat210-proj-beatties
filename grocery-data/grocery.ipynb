{
 "cells": [
  {
   "cell_type": "code",
   "execution_count": 1,
   "id": "front-sampling",
   "metadata": {},
   "outputs": [],
   "source": [
    "import pandas as pd"
   ]
  },
  {
   "cell_type": "code",
   "execution_count": 2,
   "id": "floating-think",
   "metadata": {},
   "outputs": [],
   "source": [
    "raw = pd.read_csv('./Grocery_Stores.csv')"
   ]
  },
  {
   "cell_type": "code",
   "execution_count": 3,
   "id": "breeding-accessory",
   "metadata": {},
   "outputs": [
    {
     "name": "stdout",
     "output_type": "stream",
     "text": [
      "<class 'pandas.core.frame.DataFrame'>\n",
      "RangeIndex: 173 entries, 0 to 172\n",
      "Data columns (total 11 columns):\n",
      " #   Column        Non-Null Count  Dtype  \n",
      "---  ------        --------------  -----  \n",
      " 0   X             173 non-null    float64\n",
      " 1   Y             173 non-null    float64\n",
      " 2   OBJECTID      173 non-null    int64  \n",
      " 3   FULL_ADDRESS  173 non-null    object \n",
      " 4   Name          173 non-null    object \n",
      " 5   PID           166 non-null    object \n",
      " 6   BWID          135 non-null    float64\n",
      " 7   Address       173 non-null    int64  \n",
      " 8   DateAdded     173 non-null    object \n",
      " 9   DateDeleted   173 non-null    object \n",
      " 10  GlobalID      173 non-null    object \n",
      "dtypes: float64(3), int64(2), object(6)\n",
      "memory usage: 15.0+ KB\n"
     ]
    }
   ],
   "source": [
    "raw.info()"
   ]
  },
  {
   "cell_type": "code",
   "execution_count": 4,
   "id": "dying-shanghai",
   "metadata": {},
   "outputs": [
    {
     "name": "stdout",
     "output_type": "stream",
     "text": [
      "<class 'pandas.core.frame.DataFrame'>\n",
      "RangeIndex: 173 entries, 0 to 172\n",
      "Data columns (total 11 columns):\n",
      " #   Column        Non-Null Count  Dtype  \n",
      "---  ------        --------------  -----  \n",
      " 0   longitude     173 non-null    float64\n",
      " 1   latitude      173 non-null    float64\n",
      " 2   OBJECTID      173 non-null    int64  \n",
      " 3   FULL_ADDRESS  173 non-null    object \n",
      " 4   Name          173 non-null    object \n",
      " 5   PID           166 non-null    object \n",
      " 6   BWID          135 non-null    float64\n",
      " 7   Address       173 non-null    int64  \n",
      " 8   DateAdded     173 non-null    object \n",
      " 9   DateDeleted   173 non-null    object \n",
      " 10  GlobalID      173 non-null    object \n",
      "dtypes: float64(3), int64(2), object(6)\n",
      "memory usage: 15.0+ KB\n"
     ]
    }
   ],
   "source": [
    "raw = raw.rename(columns={'X': 'longitude','Y': 'latitude'})\n",
    "raw.info()"
   ]
  },
  {
   "cell_type": "code",
   "execution_count": 9,
   "id": "eight-employment",
   "metadata": {},
   "outputs": [
    {
     "data": {
      "text/html": [
       "<div>\n",
       "<style scoped>\n",
       "    .dataframe tbody tr th:only-of-type {\n",
       "        vertical-align: middle;\n",
       "    }\n",
       "\n",
       "    .dataframe tbody tr th {\n",
       "        vertical-align: top;\n",
       "    }\n",
       "\n",
       "    .dataframe thead th {\n",
       "        text-align: right;\n",
       "    }\n",
       "</style>\n",
       "<table border=\"1\" class=\"dataframe\">\n",
       "  <thead>\n",
       "    <tr style=\"text-align: right;\">\n",
       "      <th></th>\n",
       "      <th>longitude</th>\n",
       "      <th>latitude</th>\n",
       "    </tr>\n",
       "  </thead>\n",
       "  <tbody>\n",
       "    <tr>\n",
       "      <th>0</th>\n",
       "      <td>-80.894170</td>\n",
       "      <td>35.477566</td>\n",
       "    </tr>\n",
       "    <tr>\n",
       "      <th>1</th>\n",
       "      <td>-80.860011</td>\n",
       "      <td>35.483022</td>\n",
       "    </tr>\n",
       "    <tr>\n",
       "      <th>2</th>\n",
       "      <td>-80.860211</td>\n",
       "      <td>35.500521</td>\n",
       "    </tr>\n",
       "    <tr>\n",
       "      <th>3</th>\n",
       "      <td>-80.861758</td>\n",
       "      <td>35.444176</td>\n",
       "    </tr>\n",
       "    <tr>\n",
       "      <th>4</th>\n",
       "      <td>-80.861406</td>\n",
       "      <td>35.443179</td>\n",
       "    </tr>\n",
       "    <tr>\n",
       "      <th>...</th>\n",
       "      <td>...</td>\n",
       "      <td>...</td>\n",
       "    </tr>\n",
       "    <tr>\n",
       "      <th>168</th>\n",
       "      <td>-80.791151</td>\n",
       "      <td>35.256073</td>\n",
       "    </tr>\n",
       "    <tr>\n",
       "      <th>169</th>\n",
       "      <td>-80.987332</td>\n",
       "      <td>35.302904</td>\n",
       "    </tr>\n",
       "    <tr>\n",
       "      <th>170</th>\n",
       "      <td>-80.799742</td>\n",
       "      <td>35.177793</td>\n",
       "    </tr>\n",
       "    <tr>\n",
       "      <th>171</th>\n",
       "      <td>-80.839449</td>\n",
       "      <td>35.174387</td>\n",
       "    </tr>\n",
       "    <tr>\n",
       "      <th>172</th>\n",
       "      <td>-80.737659</td>\n",
       "      <td>35.162839</td>\n",
       "    </tr>\n",
       "  </tbody>\n",
       "</table>\n",
       "<p>173 rows × 2 columns</p>\n",
       "</div>"
      ],
      "text/plain": [
       "     longitude   latitude\n",
       "0   -80.894170  35.477566\n",
       "1   -80.860011  35.483022\n",
       "2   -80.860211  35.500521\n",
       "3   -80.861758  35.444176\n",
       "4   -80.861406  35.443179\n",
       "..         ...        ...\n",
       "168 -80.791151  35.256073\n",
       "169 -80.987332  35.302904\n",
       "170 -80.799742  35.177793\n",
       "171 -80.839449  35.174387\n",
       "172 -80.737659  35.162839\n",
       "\n",
       "[173 rows x 2 columns]"
      ]
     },
     "execution_count": 9,
     "metadata": {},
     "output_type": "execute_result"
    }
   ],
   "source": [
    "\n",
    "# Select just the longitude and latitude columns from the raw data\n",
    "raw[['longitude','latitude']]"
   ]
  },
  {
   "cell_type": "code",
   "execution_count": null,
   "id": "united-extreme",
   "metadata": {},
   "outputs": [],
   "source": []
  }
 ],
 "metadata": {
  "kernelspec": {
   "display_name": "Python 3",
   "language": "python",
   "name": "python3"
  },
  "language_info": {
   "codemirror_mode": {
    "name": "ipython",
    "version": 3
   },
   "file_extension": ".py",
   "mimetype": "text/x-python",
   "name": "python",
   "nbconvert_exporter": "python",
   "pygments_lexer": "ipython3",
   "version": "3.7.9"
  }
 },
 "nbformat": 4,
 "nbformat_minor": 5
}

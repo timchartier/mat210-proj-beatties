{
 "cells": [
  {
   "cell_type": "code",
   "execution_count": 1,
   "id": "authorized-earth",
   "metadata": {},
   "outputs": [],
   "source": [
    "import pandas as pd"
   ]
  },
  {
   "cell_type": "code",
   "execution_count": 2,
   "id": "artificial-edinburgh",
   "metadata": {},
   "outputs": [],
   "source": [
    "raw = pd.read_csv('./Grocery_Stores.csv')"
   ]
  },
  {
   "cell_type": "code",
   "execution_count": 4,
   "id": "acknowledged-plymouth",
   "metadata": {},
   "outputs": [
    {
     "name": "stdout",
     "output_type": "stream",
     "text": [
      "<class 'pandas.core.frame.DataFrame'>\n",
      "RangeIndex: 173 entries, 0 to 172\n",
      "Data columns (total 11 columns):\n",
      " #   Column        Non-Null Count  Dtype  \n",
      "---  ------        --------------  -----  \n",
      " 0   X             173 non-null    float64\n",
      " 1   Y             173 non-null    float64\n",
      " 2   OBJECTID      173 non-null    int64  \n",
      " 3   FULL_ADDRESS  173 non-null    object \n",
      " 4   Name          173 non-null    object \n",
      " 5   PID           166 non-null    object \n",
      " 6   BWID          135 non-null    float64\n",
      " 7   Address       173 non-null    int64  \n",
      " 8   DateAdded     173 non-null    object \n",
      " 9   DateDeleted   173 non-null    object \n",
      " 10  GlobalID      173 non-null    object \n",
      "dtypes: float64(3), int64(2), object(6)\n",
      "memory usage: 15.0+ KB\n"
     ]
    }
   ],
   "source": [
    "raw.info()"
   ]
  },
  {
   "cell_type": "code",
   "execution_count": 6,
   "id": "acute-majority",
   "metadata": {},
   "outputs": [
    {
     "name": "stdout",
     "output_type": "stream",
     "text": [
      "<class 'pandas.core.frame.DataFrame'>\n",
      "Int64Index: 173 entries, 0 to 172\n",
      "Data columns (total 11 columns):\n",
      " #   Column        Non-Null Count  Dtype  \n",
      "---  ------        --------------  -----  \n",
      " 0   longitude     173 non-null    float64\n",
      " 1   latitude      173 non-null    float64\n",
      " 2   OBJECTID      173 non-null    int64  \n",
      " 3   FULL_ADDRESS  173 non-null    object \n",
      " 4   Name          173 non-null    object \n",
      " 5   PID           166 non-null    object \n",
      " 6   BWID          135 non-null    float64\n",
      " 7   Address       173 non-null    int64  \n",
      " 8   DateAdded     173 non-null    object \n",
      " 9   DateDeleted   173 non-null    object \n",
      " 10  GlobalID      173 non-null    object \n",
      "dtypes: float64(3), int64(2), object(6)\n",
      "memory usage: 16.2+ KB\n"
     ]
    }
   ],
   "source": [
    "raw = raw.rename(columns={'X': 'longitude','Y': 'latitude'})\n",
    "raw.info()"
   ]
  },
  {
   "cell_type": "code",
   "execution_count": 7,
   "id": "primary-slope",
   "metadata": {},
   "outputs": [
    {
     "data": {
      "text/html": [
       "<div>\n",
       "<style scoped>\n",
       "    .dataframe tbody tr th:only-of-type {\n",
       "        vertical-align: middle;\n",
       "    }\n",
       "\n",
       "    .dataframe tbody tr th {\n",
       "        vertical-align: top;\n",
       "    }\n",
       "\n",
       "    .dataframe thead th {\n",
       "        text-align: right;\n",
       "    }\n",
       "</style>\n",
       "<table border=\"1\" class=\"dataframe\">\n",
       "  <thead>\n",
       "    <tr style=\"text-align: right;\">\n",
       "      <th></th>\n",
       "      <th>longitude</th>\n",
       "      <th>latitude</th>\n",
       "      <th>OBJECTID</th>\n",
       "      <th>FULL_ADDRESS</th>\n",
       "      <th>Name</th>\n",
       "      <th>PID</th>\n",
       "      <th>BWID</th>\n",
       "      <th>Address</th>\n",
       "      <th>DateAdded</th>\n",
       "      <th>DateDeleted</th>\n",
       "      <th>GlobalID</th>\n",
       "    </tr>\n",
       "  </thead>\n",
       "  <tbody>\n",
       "    <tr>\n",
       "      <th>0</th>\n",
       "      <td>-80.894170</td>\n",
       "      <td>35.477566</td>\n",
       "      <td>564</td>\n",
       "      <td>19815 NORTH COVE RD</td>\n",
       "      <td>Harris Teeter</td>\n",
       "      <td>00110129</td>\n",
       "      <td>300163356.0</td>\n",
       "      <td>372654</td>\n",
       "      <td>2019/01/01 00:00:00+00</td>\n",
       "      <td>1970/01/01 00:00:00+00</td>\n",
       "      <td>{DC1465EE-6740-4B87-81B5-03CC31E43AE7}</td>\n",
       "    </tr>\n",
       "    <tr>\n",
       "      <th>1</th>\n",
       "      <td>-80.860011</td>\n",
       "      <td>35.483022</td>\n",
       "      <td>5577</td>\n",
       "      <td>20125 N MAIN ST</td>\n",
       "      <td>Food Lion</td>\n",
       "      <td>00317714</td>\n",
       "      <td>300159718.0</td>\n",
       "      <td>67267</td>\n",
       "      <td>2019/01/01 00:00:00+00</td>\n",
       "      <td>1970/01/01 00:00:00+00</td>\n",
       "      <td>{45059778-BEC1-4CA9-9731-573E24D1BA0A}</td>\n",
       "    </tr>\n",
       "    <tr>\n",
       "      <th>2</th>\n",
       "      <td>-80.860211</td>\n",
       "      <td>35.500521</td>\n",
       "      <td>6031</td>\n",
       "      <td>431 PENINSULA DR</td>\n",
       "      <td>Harris Teeter</td>\n",
       "      <td>00323188</td>\n",
       "      <td>NaN</td>\n",
       "      <td>487398</td>\n",
       "      <td>2019/01/01 00:00:00+00</td>\n",
       "      <td>1970/01/01 00:00:00+00</td>\n",
       "      <td>{A037022E-C4E7-4616-8F55-1D1DFE3F9876}</td>\n",
       "    </tr>\n",
       "    <tr>\n",
       "      <th>3</th>\n",
       "      <td>-80.861758</td>\n",
       "      <td>35.444176</td>\n",
       "      <td>6886</td>\n",
       "      <td>9759 SAM FURR RD</td>\n",
       "      <td>Harris Teeter</td>\n",
       "      <td>00504207</td>\n",
       "      <td>300161800.0</td>\n",
       "      <td>224302</td>\n",
       "      <td>2019/01/01 00:00:00+00</td>\n",
       "      <td>1970/01/01 00:00:00+00</td>\n",
       "      <td>{E6E9DB66-59EF-40C0-B8F7-01C5F318738D}</td>\n",
       "    </tr>\n",
       "    <tr>\n",
       "      <th>4</th>\n",
       "      <td>-80.861406</td>\n",
       "      <td>35.443179</td>\n",
       "      <td>6899</td>\n",
       "      <td>9801 SAM FURR RD</td>\n",
       "      <td>Target</td>\n",
       "      <td>00504218</td>\n",
       "      <td>300161800.0</td>\n",
       "      <td>401393</td>\n",
       "      <td>2019/01/01 00:00:00+00</td>\n",
       "      <td>1970/01/01 00:00:00+00</td>\n",
       "      <td>{1E48764E-D4E7-44B0-8E98-844A7BA193A5}</td>\n",
       "    </tr>\n",
       "  </tbody>\n",
       "</table>\n",
       "</div>"
      ],
      "text/plain": [
       "   longitude   latitude  OBJECTID         FULL_ADDRESS           Name  \\\n",
       "0 -80.894170  35.477566       564  19815 NORTH COVE RD  Harris Teeter   \n",
       "1 -80.860011  35.483022      5577      20125 N MAIN ST      Food Lion   \n",
       "2 -80.860211  35.500521      6031     431 PENINSULA DR  Harris Teeter   \n",
       "3 -80.861758  35.444176      6886     9759 SAM FURR RD  Harris Teeter   \n",
       "4 -80.861406  35.443179      6899     9801 SAM FURR RD         Target   \n",
       "\n",
       "        PID         BWID  Address               DateAdded  \\\n",
       "0  00110129  300163356.0   372654  2019/01/01 00:00:00+00   \n",
       "1  00317714  300159718.0    67267  2019/01/01 00:00:00+00   \n",
       "2  00323188          NaN   487398  2019/01/01 00:00:00+00   \n",
       "3  00504207  300161800.0   224302  2019/01/01 00:00:00+00   \n",
       "4  00504218  300161800.0   401393  2019/01/01 00:00:00+00   \n",
       "\n",
       "              DateDeleted                                GlobalID  \n",
       "0  1970/01/01 00:00:00+00  {DC1465EE-6740-4B87-81B5-03CC31E43AE7}  \n",
       "1  1970/01/01 00:00:00+00  {45059778-BEC1-4CA9-9731-573E24D1BA0A}  \n",
       "2  1970/01/01 00:00:00+00  {A037022E-C4E7-4616-8F55-1D1DFE3F9876}  \n",
       "3  1970/01/01 00:00:00+00  {E6E9DB66-59EF-40C0-B8F7-01C5F318738D}  \n",
       "4  1970/01/01 00:00:00+00  {1E48764E-D4E7-44B0-8E98-844A7BA193A5}  "
      ]
     },
     "execution_count": 7,
     "metadata": {},
     "output_type": "execute_result"
    }
   ],
   "source": []
  },
  {
   "cell_type": "code",
   "execution_count": null,
   "id": "abandoned-paris",
   "metadata": {},
   "outputs": [],
   "source": []
  }
 ],
 "metadata": {
  "kernelspec": {
   "display_name": "Python 3",
   "language": "python",
   "name": "python3"
  },
  "language_info": {
   "codemirror_mode": {
    "name": "ipython",
    "version": 3
   },
   "file_extension": ".py",
   "mimetype": "text/x-python",
   "name": "python",
   "nbconvert_exporter": "python",
   "pygments_lexer": "ipython3",
   "version": "3.7.9"
  }
 },
 "nbformat": 4,
 "nbformat_minor": 5
}
